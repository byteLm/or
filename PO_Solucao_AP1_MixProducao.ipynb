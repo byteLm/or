{
  "cells": [
    {
      "cell_type": "markdown",
      "metadata": {
        "id": "view-in-github",
        "colab_type": "text"
      },
      "source": [
        "<a href=\"https://colab.research.google.com/github/byteLm/or/blob/main/PO_Solucao_AP1_MixProducao.ipynb\" target=\"_parent\"><img src=\"https://colab.research.google.com/assets/colab-badge.svg\" alt=\"Open In Colab\"/></a>"
      ]
    },
    {
      "cell_type": "markdown",
      "source": [
        "# Solução de Aula Prática I\n",
        "> Pesquisa Operacional - Disciplina lecionada na Universidade Federal da Paraíba pelo prof. Teobaldo Bulhões\n",
        "\n"
      ],
      "metadata": {
        "id": "CYLUWTktptEG"
      }
    },
    {
      "cell_type": "markdown",
      "metadata": {
        "id": "btv0znHmsR5D"
      },
      "source": [
        "# Aula prática: Mix de Produção\n",
        "<sup>Adaptado dos exercícios 2.3 e 2.5 do livro `Pesquisa Operacional`, de `Arenales, Armentano, Morabito e Yanasse`.</sup>"
      ]
    },
    {
      "cell_type": "markdown",
      "metadata": {
        "id": "0hUSOEftsR5E"
      },
      "source": [
        "## Exercício 1"
      ]
    },
    {
      "cell_type": "markdown",
      "metadata": {
        "id": "T_SOsXELsR5E"
      },
      "source": [
        "### Descrição do problema\n",
        "Uma fundição tem de produzir 10 toneladas de um tipo de liga metálica e, para isso, tem disponível: lingotes de ferro, grafite e sucata. Dois componentes são relevantes para a liga: carbono e silício. As tabelas a seguir fornecem a fração, em termos percentuais, desses elementos nos ingredientes disponíveis, seus custos unitários, bem como a composição da liga (isto é, porcentagens mínima e máxima de cada componente da liga).\n",
        "\n",
        "Frações dos elementos (%) nos ingredientes e custo dos ingredientes (R$/ton):\n",
        "\n",
        "| | Lingotes | Grafite | Sucata |\n",
        "|:---|:---:|:---:|:---:|\n",
        "| Carbono | 0.5 | 90 | 9 |\n",
        "| Silício | 14 | - | 27 |\n",
        "| Custo | 90 | 180 | 25 |\n",
        "\n",
        "Frações (%) mínima e máxima dos componentes na liga:\n",
        "\n",
        "| | min | max |\n",
        "|:---|:---:|:---:|\n",
        "|Carbono | 0.0 | 9.5 |\n",
        "|Silício | 19 | 20 |\n",
        "\n",
        "\n",
        "Escreva um modelo de otimização linear para determinar as quantidades dos ingredientes para compor a liga metálica, de modo que as especificações técnicas sejam satisfeitas e o custo seja mínimo."
      ]
    },
    {
      "cell_type": "markdown",
      "metadata": {
        "id": "EtPxBakTtQbV"
      },
      "source": [
        "### Resolução"
      ]
    },
    {
      "cell_type": "code",
      "execution_count": 1,
      "metadata": {
        "id": "7pMG-i60tGC4",
        "outputId": "e83cb1c9-d019-444b-c59b-6f5ad868abe6",
        "colab": {
          "base_uri": "https://localhost:8080/"
        }
      },
      "outputs": [
        {
          "output_type": "stream",
          "name": "stdout",
          "text": [
            "Collecting mip\n",
            "  Downloading mip-1.15.0-py3-none-any.whl.metadata (21 kB)\n",
            "Collecting cffi==1.15.* (from mip)\n",
            "  Downloading cffi-1.15.1-cp310-cp310-manylinux_2_17_x86_64.manylinux2014_x86_64.whl.metadata (1.1 kB)\n",
            "Requirement already satisfied: pycparser in /usr/local/lib/python3.10/dist-packages (from cffi==1.15.*->mip) (2.22)\n",
            "Downloading mip-1.15.0-py3-none-any.whl (15.3 MB)\n",
            "\u001b[2K   \u001b[90m━━━━━━━━━━━━━━━━━━━━━━━━━━━━━━━━━━━━━━━━\u001b[0m \u001b[32m15.3/15.3 MB\u001b[0m \u001b[31m34.3 MB/s\u001b[0m eta \u001b[36m0:00:00\u001b[0m\n",
            "\u001b[?25hDownloading cffi-1.15.1-cp310-cp310-manylinux_2_17_x86_64.manylinux2014_x86_64.whl (441 kB)\n",
            "\u001b[2K   \u001b[90m━━━━━━━━━━━━━━━━━━━━━━━━━━━━━━━━━━━━━━━━\u001b[0m \u001b[32m441.8/441.8 kB\u001b[0m \u001b[31m15.0 MB/s\u001b[0m eta \u001b[36m0:00:00\u001b[0m\n",
            "\u001b[?25hInstalling collected packages: cffi, mip\n",
            "  Attempting uninstall: cffi\n",
            "    Found existing installation: cffi 1.17.1\n",
            "    Uninstalling cffi-1.17.1:\n",
            "      Successfully uninstalled cffi-1.17.1\n",
            "\u001b[31mERROR: pip's dependency resolver does not currently take into account all the packages that are installed. This behaviour is the source of the following dependency conflicts.\n",
            "pygit2 1.16.0 requires cffi>=1.17.0, but you have cffi 1.15.1 which is incompatible.\u001b[0m\u001b[31m\n",
            "\u001b[0mSuccessfully installed cffi-1.15.1 mip-1.15.0\n"
          ]
        }
      ],
      "source": [
        "# instalação e importação do pacote mip\n",
        "!pip install mip\n",
        "\n",
        "from mip import *"
      ]
    },
    {
      "cell_type": "markdown",
      "metadata": {
        "id": "Soe9owdkxmmg"
      },
      "source": [
        "Carrega Dados"
      ]
    },
    {
      "cell_type": "code",
      "execution_count": 2,
      "metadata": {
        "id": "1foz1NwTtzuH"
      },
      "outputs": [],
      "source": [
        "# composição de cada ingrediente\n",
        "a = {\n",
        "    'l': {'c': 0.005, 's': 0.14},\n",
        "    'g': {'c': 0.9,   's': 0.0},\n",
        "    's': {'c': 0.09,  's': 0.27},\n",
        "}\n",
        "\n",
        "# custo\n",
        "c = {'l': 90, 'g': 180, 's': 25}\n",
        "\n",
        "# composições mínimas e máximas dos componentes\n",
        "n = {'c': 0.0, 's': 0.19}  # min\n",
        "m = {'c': 0.095, 's': 0.2} # max\n",
        "\n",
        "# quantidade desejada da liga\n",
        "Q = 10"
      ]
    },
    {
      "cell_type": "markdown",
      "metadata": {
        "id": "1tHfPbSfxp_k"
      },
      "source": [
        "Cria modelo"
      ]
    },
    {
      "cell_type": "code",
      "source": [
        "modelo = Model(sense=MINIMIZE, solver_name=CBC)\n",
        "\n",
        "# Criação da variável\n",
        "x = []\n",
        "x.append(modelo.add_var(var_type=CONTINUOUS, name=f\"x_lingotes\", lb=0.0))\n",
        "x.append(modelo.add_var(var_type=CONTINUOUS, name=f\"x_grafite\", lb=0.0))\n",
        "x.append(modelo.add_var(var_type=CONTINUOUS, name=f\"x_sucata\", lb=0.0))\n",
        "\n",
        "\n",
        "# Função objetivo = minimizar custo total\n",
        "modelo.objective = c['l']*x[0] + c['g']*x[1] + c['s']*x[2] # Minimizar esse custo, dado que lingote é x$, grafite é y$ e sucate é z$\n",
        "\n",
        "# Restrição: quantidade minína de carbono\n",
        "modelo += a['l']['c']*x[0] + a['g']['c']*x[1] + a['s']['c']*x[2] >= n['c']*10\n",
        "\n",
        "# Restrição: quantidade máxima de carbono\n",
        "modelo += a['l']['c']*x[0] + a['g']['c']*x[1] + a['s']['c']*x[2] <= m['c']*10 # Restrição 1: quantidade máxima de carbono\n",
        "\n",
        "# Restrição: quantidade miníma de silício\n",
        "modelo += a['l']['s']*x[0] + a['g']['s']*x[1] + a['s']['s']*x[2] >= n['s']*10 # Restrição 2: quantidade minína de silicio\n",
        "modelo += a['l']['s']*x[0] + a['g']['s']*x[1] + a['s']['s']*x[2] <= m['s']*10 # Restrição 2: quantidade minína de silicio\n",
        "\n",
        "# a soma total tem que dar 10 toneladas\n",
        "modelo += x[0] + x[1] + x[2] == 10\n",
        "\n",
        "modelo.write(\"model.lp\") # salva modelo em arquivo\n",
        "with open(\"model.lp\") as f: # lê e exibe conteúdo do arquivo\n",
        "  print(f.read())"
      ],
      "metadata": {
        "id": "woEL0ub3W17Q",
        "outputId": "511790f5-bdf4-4756-ef2c-e696b1f0cf99",
        "colab": {
          "base_uri": "https://localhost:8080/"
        }
      },
      "execution_count": 3,
      "outputs": [
        {
          "output_type": "stream",
          "name": "stdout",
          "text": [
            "\\Problem name: \n",
            "\n",
            "Minimize\n",
            "OBJROW: 90 x_lingotes + 180 x_grafite + 25 x_sucata\n",
            "Subject To\n",
            "constr(0):  0.00500 x_lingotes + 0.90000 x_grafite + 0.09000 x_sucata >= -0\n",
            "constr(1):  0.00500 x_lingotes + 0.90000 x_grafite + 0.09000 x_sucata <= 0.95000\n",
            "constr(2):  0.14000 x_lingotes + 0.27000 x_sucata >= 1.90000\n",
            "constr(3):  0.14000 x_lingotes + 0.27000 x_sucata <= 2\n",
            "constr(4):  x_lingotes + x_grafite + x_sucata = 10\n",
            "Bounds\n",
            "End\n",
            "\n"
          ]
        }
      ]
    },
    {
      "cell_type": "markdown",
      "metadata": {
        "id": "dC0dH9Vgx11z"
      },
      "source": [
        "Executa"
      ]
    },
    {
      "cell_type": "code",
      "execution_count": 4,
      "metadata": {
        "id": "Ytos1fiAyt5n",
        "colab": {
          "base_uri": "https://localhost:8080/"
        },
        "outputId": "acbc7a5f-fb4c-4af7-8cd0-74fd7d113910"
      },
      "outputs": [
        {
          "output_type": "stream",
          "name": "stdout",
          "text": [
            "Status =  OptimizationStatus.OPTIMAL\n",
            "Solution value  = 600.00\n",
            "\n",
            "Solution:\n",
            "x_lingotes = 5.38\n",
            "x_grafite = 0.00\n",
            "x_sucata = 4.62\n"
          ]
        }
      ],
      "source": [
        "def solve(model):\n",
        "  status = model.optimize()\n",
        "\n",
        "  print(\"Status = \", status)\n",
        "  print(f\"Solution value  = {model.objective_value:.2f}\\n\")\n",
        "\n",
        "  print(\"Solution:\")\n",
        "  for v in model.vars:\n",
        "      print(f\"{v.name} = {v.x:.2f}\")\n",
        "\n",
        "solve(modelo)"
      ]
    },
    {
      "cell_type": "markdown",
      "metadata": {
        "id": "0Sp8kCaGsR5E"
      },
      "source": [
        "## Exercício 2"
      ]
    },
    {
      "cell_type": "markdown",
      "metadata": {
        "id": "7PPfPnU7sR5E"
      },
      "source": [
        "Agora considere que os ingredientes tem o estoque limitado, de acordo com a tabela abaixo.\n",
        "\n",
        "| | Lingotes | Grafite | Sucata |\n",
        "|:---|:---:|:---:|:---:|\n",
        "| Estoque (ton) | 5 | 5 | 12 |\n",
        "\n",
        "Como o modelo pode ser modificado para atender a esse requisito?"
      ]
    },
    {
      "cell_type": "markdown",
      "metadata": {
        "id": "fSrbmrBD0fb9"
      },
      "source": [
        "### Código"
      ]
    },
    {
      "cell_type": "markdown",
      "metadata": {
        "id": "2iAz0aU99Dxo"
      },
      "source": [
        "Carrega Dados"
      ]
    },
    {
      "cell_type": "code",
      "execution_count": 5,
      "metadata": {
        "id": "Yz_PtRT89GxZ"
      },
      "outputs": [],
      "source": [
        "# estoque\n",
        "e = {'l': 5, 'g': 5, 's': 12}"
      ]
    },
    {
      "cell_type": "markdown",
      "metadata": {
        "id": "s9G5Hep50y0V"
      },
      "source": [
        "Cria modelo"
      ]
    },
    {
      "cell_type": "code",
      "source": [
        "# Apenas precisamos considerar que a quantidade de lingotes, grafite e sucata precisam ser menores que o seu respectivo estoque\n",
        "modelo += x[0] <= e['l']\n",
        "modelo += x[1] <= e['g']\n",
        "modelo += x[1] <= e['s']\n",
        "\n",
        "modelo.write(\"modelo2.lp\") # salva modelo em arquivo\n",
        "with open(\"modelo2.lp\") as f: # Lê e exibe conteúdo do arquivo\n",
        "  print(f.read())"
      ],
      "metadata": {
        "id": "Ez6lX92UZxBU",
        "colab": {
          "base_uri": "https://localhost:8080/"
        },
        "outputId": "0c8815ae-fdb6-4a29-89dc-42ced219d468"
      },
      "execution_count": 6,
      "outputs": [
        {
          "output_type": "stream",
          "name": "stdout",
          "text": [
            "\\Problem name: \n",
            "\n",
            "Minimize\n",
            "OBJROW: 90 x_lingotes + 180 x_grafite + 25 x_sucata\n",
            "Subject To\n",
            "constr(0):  0.00500 x_lingotes + 0.90000 x_grafite + 0.09000 x_sucata >= -0\n",
            "constr(1):  0.00500 x_lingotes + 0.90000 x_grafite + 0.09000 x_sucata <= 0.95000\n",
            "constr(2):  0.14000 x_lingotes + 0.27000 x_sucata >= 1.90000\n",
            "constr(3):  0.14000 x_lingotes + 0.27000 x_sucata <= 2\n",
            "constr(4):  x_lingotes + x_grafite + x_sucata = 10\n",
            "constr(5):  x_lingotes <= 5\n",
            "constr(6):  x_grafite <= 5\n",
            "constr(7):  x_grafite <= 12\n",
            "Bounds\n",
            "End\n",
            "\n"
          ]
        }
      ]
    },
    {
      "cell_type": "markdown",
      "metadata": {
        "id": "Ue3ahEFA01L_"
      },
      "source": [
        "Executa"
      ]
    },
    {
      "cell_type": "code",
      "execution_count": 7,
      "metadata": {
        "id": "EVs-Fx6D02Tc",
        "colab": {
          "base_uri": "https://localhost:8080/"
        },
        "outputId": "5d8a5885-b250-46e4-c63f-cd5a22cebedd"
      },
      "outputs": [
        {
          "output_type": "stream",
          "name": "stdout",
          "text": [
            "Status =  OptimizationStatus.OPTIMAL\n",
            "Solution value  = 603.70\n",
            "\n",
            "Solution:\n",
            "x_lingotes = 5.00\n",
            "x_grafite = 0.19\n",
            "x_sucata = 4.81\n"
          ]
        }
      ],
      "source": [
        "solve(modelo)"
      ]
    },
    {
      "cell_type": "markdown",
      "metadata": {
        "id": "2mE7ipJPsR5F"
      },
      "source": [
        "## Exercício 3"
      ]
    },
    {
      "cell_type": "markdown",
      "metadata": {
        "id": "-Er_QuwBsR5F"
      },
      "source": [
        "Suponha agora que duas ligas metálicas devem ser preparadas e os mesmos ingredientes são utilizados em ambas. A liga especificada no Exercício 1 é referida como liga 1 e devem ser produzidas 10 toneladas desta liga. Da outra liga, referida como liga 2, devem ser produzidas 6 toneladas e suas composições mínima e máxima são dadas na tabela abaixo.\n",
        "\n",
        "| | min | max |\n",
        "|:---|:---:|:---:|\n",
        "|Carbono | 0.00 | 40 |\n",
        "|Silício | 12 | 19 |\n"
      ]
    },
    {
      "cell_type": "markdown",
      "metadata": {
        "id": "Ay3bSczF1Ldt"
      },
      "source": [
        "### Código"
      ]
    },
    {
      "cell_type": "markdown",
      "metadata": {
        "id": "v12Efn0tMq3m"
      },
      "source": [
        "Carrega dados"
      ]
    },
    {
      "cell_type": "code",
      "execution_count": 9,
      "metadata": {
        "id": "dFhCoNM1MtVy"
      },
      "outputs": [],
      "source": [
        "# composições mínimas e máximas dos componentes\n",
        "n = [{'c': 0.0, 's': 0.19}, # Composição mínima da Liga 1\n",
        "    {'c': 0.0, 's': 0.12}]  # Composição mínima da Liga 2\n",
        "\n",
        "m = [{'c': 0.095, 's': 0.2}, # Composição máxima da Liga 1\n",
        "     {'c': 0.4, 's': 0.19}]  # Composição máxima da Liga 2\n",
        "\n",
        "# quantidade desejada da liga\n",
        "Q = [10, 6]"
      ]
    },
    {
      "cell_type": "code",
      "source": [
        "#                                                                           Não iremos alterar o estoque e a função objetivo.\n",
        "modelo = Model(sense=MINIMIZE, solver_name=CBC)\n",
        "\n",
        "# Criação da variável\n",
        "x = []\n",
        "x.append(modelo.add_var(var_type=CONTINUOUS, name=f\"x_lingotes\", lb=0.0))\n",
        "x.append(modelo.add_var(var_type=CONTINUOUS, name=f\"x_grafite\", lb=0.0))\n",
        "x.append(modelo.add_var(var_type=CONTINUOUS, name=f\"x_sucata\", lb=0.0))\n",
        "\n",
        "# estoque\n",
        "modelo += x[0] <= e['l']\n",
        "modelo += x[1] <= e['g']\n",
        "modelo += x[1] <= e['s']\n",
        "\n",
        "# Função objetivo = minimizar custo total\n",
        "modelo.objective = c['l']*x[0] + c['g']*x[1] + c['s']*x[2] # Minimizar esse custo, dado que lingote é 90$, grafite é 180 e sucate é 25"
      ],
      "metadata": {
        "id": "Xz1zUtG4sjKd"
      },
      "execution_count": 11,
      "outputs": []
    },
    {
      "cell_type": "code",
      "source": [
        "\n",
        "# Agora, temos que ter o mínimo necessário para a liga 1 + o mínimo necessário para a liga 2.\n",
        "# O mesmo para o máximo.\n",
        "# Restrição: quantidade minína de carbono\n",
        "modelo += a['l']['c']*x[0] + a['g']['c']*x[1] + a['s']['c']*x[2] >= n[0]['c']*10 + n[1]['c']*6\n",
        "\n",
        "# Restrição: quantidade máxima de carbono\n",
        "modelo += a['l']['c']*x[0] + a['g']['c']*x[1] + a['s']['c']*x[2] <= m[0]['c']*10 + m[1]['c']*6 # Restrição 1: quantidade máxima de carbono\n",
        "\n",
        "# Restrição: quantidade miníma de silício\n",
        "modelo += a['l']['s']*x[0] + a['g']['s']*x[1] + a['s']['s']*x[2] >= n[0]['s']*10 + n[1]['s'] * 6\n",
        "modelo += a['l']['s']*x[0] + a['g']['s']*x[1] + a['s']['s']*x[2] <= m[0]['s']*10 + m[1]['s'] * 6\n",
        "\n",
        "# a soma total tem que dar agora Q[0] + Q[1]\n",
        "modelo += x[0] + x[1] + x[2] == Q[0] + Q[1]\n",
        "\n",
        "modelo.write(\"model.lp\") # salva modelo em arquivo\n",
        "with open(\"model.lp\") as f: # lê e exibe conteúdo do arquivo\n",
        "  print(f.read())\n",
        "\n",
        "solve(modelo)"
      ],
      "metadata": {
        "colab": {
          "base_uri": "https://localhost:8080/"
        },
        "id": "BapgDts6nCBr",
        "outputId": "509cfd5c-19a3-4885-c5b9-fdd66f955d49"
      },
      "execution_count": 12,
      "outputs": [
        {
          "output_type": "stream",
          "name": "stdout",
          "text": [
            "\\Problem name: \n",
            "\n",
            "Minimize\n",
            "OBJROW: 90 x_lingotes + 180 x_grafite + 25 x_sucata\n",
            "Subject To\n",
            "constr(0):  x_lingotes <= 5\n",
            "constr(1):  x_grafite <= 5\n",
            "constr(2):  x_grafite <= 12\n",
            "constr(3):  0.00500 x_lingotes + 0.90000 x_grafite + 0.09000 x_sucata >= -0\n",
            "constr(4):  0.00500 x_lingotes + 0.90000 x_grafite + 0.09000 x_sucata <= 3.35000\n",
            "constr(5):  0.14000 x_lingotes + 0.27000 x_sucata >= 2.62000\n",
            "constr(6):  0.14000 x_lingotes + 0.27000 x_sucata <= 3.14000\n",
            "constr(7):  x_lingotes + x_grafite + x_sucata = 16\n",
            "Bounds\n",
            "End\n",
            "\n",
            "Status =  OptimizationStatus.OPTIMAL\n",
            "Solution value  = 1029.26\n",
            "\n",
            "Solution:\n",
            "x_lingotes = 5.00\n",
            "x_grafite = 1.96\n",
            "x_sucata = 9.04\n"
          ]
        }
      ]
    }
  ],
  "metadata": {
    "colab": {
      "provenance": [],
      "include_colab_link": true
    },
    "kernelspec": {
      "display_name": "Python 3",
      "language": "python",
      "name": "python3"
    },
    "language_info": {
      "codemirror_mode": {
        "name": "ipython",
        "version": 3
      },
      "file_extension": ".py",
      "mimetype": "text/x-python",
      "name": "python",
      "nbconvert_exporter": "python",
      "pygments_lexer": "ipython3",
      "version": "3.9.12"
    },
    "vscode": {
      "interpreter": {
        "hash": "375d3134e2271422fd67fc0237b3f1ee69ce72c62d280e2fa6411e6a088e62bf"
      }
    }
  },
  "nbformat": 4,
  "nbformat_minor": 0
}